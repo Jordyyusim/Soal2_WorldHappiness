{
 "cells": [
  {
   "cell_type": "code",
   "execution_count": null,
   "metadata": {},
   "outputs": [],
   "source": [
    "import numpy as np\n",
    "import pandas as pd\n",
    "import matplotlib.pyplot as plt"
   ]
  },
  {
   "cell_type": "code",
   "execution_count": null,
   "metadata": {},
   "outputs": [],
   "source": [
    "df = pd.read_csv('2019.csv')\n",
    "df.head()"
   ]
  },
  {
   "cell_type": "code",
   "execution_count": null,
   "metadata": {},
   "outputs": [],
   "source": [
    "df_score = df[['Score']]\n",
    "df_GDP = df[['GDP per capita']]\n",
    "df_social = df[['Social support']]\n",
    "df_healthy = df[['Healthy life expectancy']]\n",
    "df_freedom = df[['Freedom to make life choices']]\n",
    "df_generosity = df[['Generosity']]\n",
    "df_perceptions = df[['Perceptions of corruption']]\n",
    "df_country = df[['Country or region']]\n",
    "\n",
    "df_score_array = np.array(df_score)\n",
    "df_GDP_array = np.array(df_GDP)\n",
    "df_social_array = np.array(df_social)\n",
    "df_healthy_array = np.array(df_healthy)\n",
    "df_freedom_array = np.array(df_freedom)\n",
    "df_generosity_array = np.array(df_generosity)\n",
    "df_perceptions_array = np.array(df_perceptions)\n",
    "df_country_array = np.array(df_country)"
   ]
  },
  {
   "cell_type": "code",
   "execution_count": null,
   "metadata": {},
   "outputs": [],
   "source": [
    "df_score_mean = np.mean(df_score)\n",
    "df_GDP_mean = np.mean(df_GDP)\n",
    "df_social_mean = np.mean(df_social)\n",
    "df_healthy_mean = np.mean(df_healthy)\n",
    "df_freedom_mean = np.mean(df_freedom)\n",
    "df_generosity_mean = np.mean(df_generosity)\n",
    "df_perceptions_mean = np.mean(df_perceptions)\n",
    "\n",
    "df_score_sort = np.sort(df_score)\n",
    "df_GDP_sort = np.sort(df_GDP)\n",
    "df_social_sort = np.sort(df_social)\n",
    "df_healthy_sort = np.sort(df_healthy)\n",
    "df_freedom_sort = np.sort(df_freedom)\n",
    "df_generosity_sort = np.sort(df_generosity)\n",
    "df_perceptions_sort = np.sort(df_perceptions)\n",
    "df_score_median = np.median(df_score)\n",
    "df_GDP_median = np.median(df_GDP)\n",
    "df_social_median = np.median(df_social)\n",
    "df_healthy_median = np.median(df_healthy)\n",
    "df_freedom_median = np.median(df_freedom)\n",
    "df_generosity_median = np.median(df_generosity)\n",
    "df_perceptions_median = np.median(df_perceptions)\n",
    "\n",
    "print(df_score_mean)"
   ]
  },
  {
   "cell_type": "code",
   "execution_count": null,
   "metadata": {},
   "outputs": [],
   "source": [
    "range_df_score = df_score.max() - df_score.min()\n",
    "range_df_GDP = df_GDP.max() - df_GDP.min()\n",
    "range_df_social = df_social.max() - df_social.min()\n",
    "range_df_healthy = df_healthy.max() - df_healthy.min()\n",
    "range_df_freedom = df_freedom.max() - df_freedom.min()\n",
    "range_df_generosity = df_generosity.max() - df_generosity.min()\n",
    "range_df_perceptions = df_perceptions.max() - df_perceptions.min()\n"
   ]
  },
  {
   "cell_type": "code",
   "execution_count": null,
   "metadata": {},
   "outputs": [],
   "source": [
    "Q1_df_score = 4.5445\n",
    "Q1_df_GDP = 0.60275\n",
    "Q1_df_social = 1.05575\n",
    "Q1_df_healthy = 0.54775\n",
    "Q1_df_freedom = 0.308\n",
    "Q1_df_generosity = 0.10875\n",
    "Q1_df_perceptions = 0.047\n",
    "\n",
    "Q3_df_score = 6.1845\n",
    "Q3_df_GDP = 1.2325\n",
    "Q3_df_social = 1.4525\n",
    "Q3_df_healthy = 0.88175\n",
    "Q3_df_freedom = 0.50725\n",
    "Q3_df_generosity = 0.24825\n",
    "Q3_df_perceptions = 0.14125\n",
    "\n",
    "IQR_df_score = Q3_df_score - Q1_df_score\n",
    "IQR_df_GDP = Q3_df_GDP - Q1_df_GDP\n",
    "IQR_df_social = Q3_df_social - Q1_df_social\n",
    "IQR_df_healthy = Q3_df_healthy - Q1_df_healthy\n",
    "IQR_df_freedom = Q3_df_freedom - Q1_df_freedom\n",
    "IQR_df_generosity = Q3_df_generosity - Q1_df_generosity\n",
    "IQR_df_perceptions = Q3_df_perceptions - Q1_df_perceptions\n",
    "\n",
    "IQR_df_score"
   ]
  },
  {
   "cell_type": "code",
   "execution_count": null,
   "metadata": {},
   "outputs": [],
   "source": [
    "df_score_std = df_score.std(ddof=1)\n",
    "df_GDP_std = df_GDP.std(ddof=1)\n",
    "df_social_std = df_social.std(ddof=1)\n",
    "df_healthy_std = df_healthy.std(ddof=1)\n",
    "df_freedom_std = df_freedom.std(ddof=1)\n",
    "df_generosity_std = df_generosity.std(ddof=1)\n",
    "df_perceptions_std = df_perceptions.std(ddof=1)\n",
    "\n",
    "df_score_var = df_score_std ** 2\n",
    "df_GDP_var = df_GDP_std ** 2\n",
    "df_social_var = df_social_std ** 2\n",
    "df_healthy_var = df_healthy_std ** 2\n",
    "df_freedom_var = df_freedom_std ** 2\n",
    "df_generosity_var = df_generosity_std ** 2\n",
    "df_perceptions_var = df_perceptions_std ** 2"
   ]
  },
  {
   "cell_type": "code",
   "execution_count": null,
   "metadata": {},
   "outputs": [],
   "source": [
    "df_score_zscore = (df_score - df_score_mean) / df_score_std\n",
    "df_GDP_zscore = (df_GDP - df_GDP_mean) / df_GDP_std\n",
    "df_social_zscore = (df_social - df_social_mean) / df_social_std\n",
    "df_healthy_zscore = (df_healthy - df_healthy_mean) / df_healthy_std\n",
    "df_freedom_zscore = (df_freedom - df_freedom_mean) / df_freedom_std\n",
    "df_generosity_zscore = (df_generosity - df_generosity_mean) / df_generosity_std\n",
    "df_perceptions_zscore = (df_perceptions - df_perceptions_mean) / df_perceptions_std\n"
   ]
  },
  {
   "cell_type": "markdown",
   "metadata": {},
   "source": [
    "## OUTLIERS WITH IQR METHOD"
   ]
  },
  {
   "cell_type": "code",
   "execution_count": null,
   "metadata": {},
   "outputs": [],
   "source": [
    "score_LO = Q1_df_score - 1.5 * IQR_df_score\n",
    "GDP_LO = Q1_df_GDP - 1.5 * IQR_df_GDP\n",
    "social_LO = Q1_df_social - 1.5 * IQR_df_social\n",
    "healthy_LO = Q1_df_healthy - 1.5 * IQR_df_healthy\n",
    "freedom_LO = Q1_df_freedom - 1.5 * IQR_df_freedom\n",
    "generosity_LO = Q1_df_generosity - 1.5 * IQR_df_generosity\n",
    "perceptions_LO = Q1_df_perceptions - 1.5 * IQR_df_perceptions\n",
    "\n",
    "score_HO = Q3_df_score + 1.5 * IQR_df_score\n",
    "GDP_HO = Q3_df_GDP + 1.5 * IQR_df_GDP\n",
    "social_HO = Q3_df_social + 1.5 * IQR_df_social\n",
    "healthy_HO = Q3_df_healthy + 1.5 * IQR_df_healthy\n",
    "freedom_HO = Q3_df_freedom + 1.5 * IQR_df_freedom\n",
    "generosity_HO = Q3_df_generosity + 1.5 * IQR_df_generosity\n",
    "perceptions_HO = Q3_df_perceptions + 1.5 * IQR_df_perceptions\n",
    "\n",
    "# score_outlier = np.array(list(filter(lambda x: x < 2 and x > 8, df_GDP)))\n",
    "# print(score_outlier)\n",
    "\n",
    "print(type(score_HO))\n",
    "print(score_LO)\n",
    "print(GDP_HO)\n",
    "print(social_HO)\n",
    "print(healthy_HO)\n",
    "print(freedom_HO)\n",
    "print(generosity_HO)\n",
    "print(perceptions_HO)"
   ]
  },
  {
   "cell_type": "markdown",
   "metadata": {},
   "source": [
    "## OUTLIERS WITH Z-SCORE METHOD"
   ]
  },
  {
   "cell_type": "code",
   "execution_count": null,
   "metadata": {},
   "outputs": [],
   "source": [
    "score_LO_Z = df_score_mean - 2 * df_score_std\n",
    "GDP_LO_Z = df_GDP_mean - 2 * df_GDP_std\n",
    "social_LO_Z = df_social_mean - 2 * df_social_std\n",
    "healthy_LO_Z = df_healthy_mean - 2 * df_healthy_std\n",
    "freedom_LO_Z = df_freedom_mean - 2 * df_freedom_std\n",
    "generosity_LO_Z = df_generosity_mean - 2 * df_generosity_std\n",
    "perceptions_LO_Z = df_perceptions_mean - 2 * df_perceptions_std\n",
    "\n",
    "score_HO_Z = df_score_mean + 2 * df_score_std\n",
    "GDP_HO_Z = df_GDP_mean + 2 * df_GDP_std\n",
    "social_HO_Z = df_social_mean + 2 * df_social_std\n",
    "healthy_HO_Z = df_healthy_mean + 2 * df_healthy_std\n",
    "freedom_HO_Z = df_freedom_mean + 2 * df_freedom_std\n",
    "generosity_HO_Z = df_generosity_mean + 2 * df_generosity_std\n",
    "perceptions_HO_Z = df_perceptions_mean + 2 * df_perceptions_std\n"
   ]
  },
  {
   "cell_type": "code",
   "execution_count": 125,
   "metadata": {},
   "outputs": [
    {
     "data": {
      "image/png": "[encoded data removed]",
      "text/plain": [
       "<Figure size 1440x576 with 2 Axes>"
      ]
     },
     "metadata": {
      "needs_background": "light"
     },
     "output_type": "display_data"
    }
   ],
   "source": [
    "x = np.linspace(1, 8, 10)\n",
    "plt.figure(figsize=(20,8))\n",
    "plt.subplot(121)\n",
    "plt.hist(df_score_array, x)\n",
    "plt.title('Score')\n",
    "\n",
    "plt.subplot(122)\n",
    "plt.boxplot(df_score_array)\n",
    "plt.title('Score')\n",
    "plt.show()"
   ]
  },
  {
   "cell_type": "code",
   "execution_count": null,
   "metadata": {},
   "outputs": [],
   "source": [
    "x = np.linspace(0, 2, 10)\n",
    "plt.figure(figsize=(20,8))\n",
    "plt.subplot(121)\n",
    "plt.hist(df_GDP_array, x)\n",
    "plt.title('GDP per capita')\n",
    "plt.subplot(122)\n",
    "plt.boxplot(df_GDP_array)\n",
    "plt.title('GDP per capita')\n",
    "plt.show()"
   ]
  },
  {
   "cell_type": "code",
   "execution_count": null,
   "metadata": {},
   "outputs": [],
   "source": [
    "x = np.linspace(0, 2, 10)\n",
    "plt.figure(figsize=(20,8))\n",
    "plt.subplot(121)\n",
    "plt.hist(df_social_array, x)\n",
    "plt.title('Social support')\n",
    "plt.subplot(122)\n",
    "plt.boxplot(df_social_array)\n",
    "plt.title('Social support')\n",
    "plt.show()"
   ]
  },
  {
   "cell_type": "code",
   "execution_count": null,
   "metadata": {},
   "outputs": [],
   "source": [
    "x = np.linspace(0, 1.2, 10)\n",
    "plt.figure(figsize=(20,8))\n",
    "plt.subplot(121)\n",
    "plt.hist(df_healthy_array, x)\n",
    "plt.title('Healthy life expectancy')\n",
    "plt.subplot(122)\n",
    "plt.boxplot(df_healthy_array)\n",
    "plt.title('Healthy life expectancy')\n",
    "plt.show()"
   ]
  },
  {
   "cell_type": "code",
   "execution_count": null,
   "metadata": {},
   "outputs": [],
   "source": [
    "x = np.linspace(0, 1, 10)\n",
    "plt.figure(figsize=(20,8))\n",
    "plt.subplot(121)\n",
    "plt.hist(df_freedom_array, x)\n",
    "plt.title('Freedom to make life choice')\n",
    "plt.subplot(122)\n",
    "plt.boxplot(df_freedom_array)\n",
    "plt.title('Freedom to make life choice')\n",
    "plt.show()"
   ]
  },
  {
   "cell_type": "code",
   "execution_count": null,
   "metadata": {},
   "outputs": [],
   "source": [
    "x = np.linspace(0, 1, 10)\n",
    "plt.figure(figsize=(20,8))\n",
    "plt.subplot(121)\n",
    "plt.hist(df_generosity, x)\n",
    "plt.title('Generosity')\n",
    "plt.subplot(122)\n",
    "plt.boxplot(df_generosity_array)\n",
    "plt.title('Generosity')\n",
    "plt.show()"
   ]
  },
  {
   "cell_type": "code",
   "execution_count": null,
   "metadata": {},
   "outputs": [],
   "source": [
    "x = np.linspace(0, 1, 10)\n",
    "plt.figure(figsize=(20,8))\n",
    "plt.subplot(121)\n",
    "plt.hist(df_perceptions, x)\n",
    "plt.title('Pereceptions of corruption')\n",
    "plt.subplot(122)\n",
    "plt.boxplot(df_perceptions_array)\n",
    "plt.title('Pereceptions of corruption')\n",
    "plt.show()"
   ]
  },
  {
   "cell_type": "code",
   "execution_count": 131,
   "metadata": {},
   "outputs": [
    {
     "name": "stdout",
     "output_type": "stream",
     "text": [
      "                   Score  GDP per capita\n",
      "Score           1.000000        0.793883\n",
      "GDP per capita  0.793883        1.000000\n",
      "                   Score  Social support\n",
      "Score           1.000000        0.777058\n",
      "Social support  0.777058        1.000000\n",
      "                            Score  Healthy life expectancy\n",
      "Score                    1.000000                 0.779883\n",
      "Healthy life expectancy  0.779883                 1.000000\n",
      "                                 Score  Freedom to make life choices\n",
      "Score                         1.000000                      0.566742\n",
      "Freedom to make life choices  0.566742                      1.000000\n",
      "               Score  Generosity\n",
      "Score       1.000000    0.075824\n",
      "Generosity  0.075824    1.000000\n",
      "                              Score  Perceptions of corruption\n",
      "Score                      1.000000                   0.385613\n",
      "Perceptions of corruption  0.385613                   1.000000\n"
     ]
    }
   ],
   "source": [
    "print(df[['Score', 'GDP per capita']].corr(method='pearson'))\n",
    "print(df[['Score', 'Social support']].corr(method='pearson'))\n",
    "print(df[['Score', 'Healthy life expectancy']].corr(method='pearson'))\n",
    "print(df[['Score', 'Freedom to make life choices']].corr(method='pearson'))\n",
    "print(df[['Score', 'Generosity']].corr(method='pearson'))\n",
    "print(df[['Score', 'Perceptions of corruption']].corr(method='pearson'))"
   ]
  },
  {
   "cell_type": "code",
   "execution_count": 132,
   "metadata": {},
   "outputs": [
    {
     "name": "stdout",
     "output_type": "stream",
     "text": [
      "                   Score  GDP per capita\n",
      "Score           1.239036        0.352052\n",
      "GDP per capita  0.352052        0.158714\n",
      "                   Score  Social support\n",
      "Score           1.239036        0.258788\n",
      "Social support  0.258788        0.089515\n",
      "                            Score  Healthy life expectancy\n",
      "Score                    1.239036                 0.210189\n",
      "Healthy life expectancy  0.210189                 0.058624\n",
      "                                 Score  Freedom to make life choices\n",
      "Score                         1.239036                      0.090394\n",
      "Freedom to make life choices  0.090394                      0.020532\n",
      "               Score  Generosity\n",
      "Score       1.239036    0.008040\n",
      "Generosity  0.008040    0.009073\n",
      "                              Score  Perceptions of corruption\n",
      "Score                      1.239036                   0.040579\n",
      "Perceptions of corruption  0.040579                   0.008937\n"
     ]
    }
   ],
   "source": [
    "print(df[['Score', 'GDP per capita']].cov())\n",
    "print(df[['Score', 'Social support']].cov())\n",
    "print(df[['Score', 'Healthy life expectancy']].cov())\n",
    "print(df[['Score', 'Freedom to make life choices']].cov())\n",
    "print(df[['Score', 'Generosity']].cov())\n",
    "print(df[['Score', 'Perceptions of corruption']].cov())"
   ]
  },
  {
   "cell_type": "code",
   "execution_count": null,
   "metadata": {},
   "outputs": [],
   "source": [
    "print(df[['Score', 'GDP per capita']].corr(method='kendall'))\n",
    "print(df[['Score', 'Social support']].corr(method='kendall'))\n",
    "print(df[['Score', 'Healthy life expectancy']].corr(method='kendall'))\n",
    "print(df[['Score', 'Freedom to make life choices']].corr(method='kendall'))\n",
    "print(df[['Score', 'Generosity']].corr(method='kendall'))\n",
    "print(df[['Score', 'Perceptions of corruption']].corr(method='kendall'))"
   ]
  },
  {
   "cell_type": "code",
   "execution_count": null,
   "metadata": {},
   "outputs": [],
   "source": [
    "print(df[['Score', 'GDP per capita']].corr(method='spearman'))\n",
    "print(df[['Score', 'Social support']].corr(method='spearman'))\n",
    "print(df[['Score', 'Healthy life expectancy']].corr(method='spearman'))\n",
    "print(df[['Score', 'Freedom to make life choices']].corr(method='spearman'))\n",
    "print(df[['Score', 'Generosity']].corr(method='spearman'))\n",
    "print(df[['Score', 'Perceptions of corruption']].corr(method='spearman'))"
   ]
  },
  {
   "cell_type": "markdown",
   "metadata": {},
   "source": [
    "## Yang paling berpengaruh adalah GDP per capita karena valuenya paling mendekati angka 1"
   ]
  },
  {
   "cell_type": "code",
   "execution_count": 219,
   "metadata": {},
   "outputs": [
    {
     "data": {
      "image/png": "[encoded data removed]",
      "text/plain": [
       "<Figure size 864x432 with 1 Axes>"
      ]
     },
     "metadata": {
      "needs_background": "light"
     },
     "output_type": "display_data"
    }
   ],
   "source": [
    "y = list(df['Country or region'])\n",
    "y = y[0:10]\n",
    "a = list(df['GDP per capita'])\n",
    "a = a[0:10]\n",
    "plt.figure(figsize=(12,6))\n",
    "plt.title('GDP per capita Bar')\n",
    "plt.xlabel('Country')\n",
    "plt.ylabel('GDP per capita')\n",
    "plt.bar(y, a)\n",
    "plt.show()\n",
    "\n"
   ]
  },
  {
   "cell_type": "code",
   "execution_count": 213,
   "metadata": {},
   "outputs": [
    {
     "data": {
      "image/png": "[encoded data removed]",
      "text/plain": [
       "<Figure size 864x432 with 1 Axes>"
      ]
     },
     "metadata": {
      "needs_background": "light"
     },
     "output_type": "display_data"
    }
   ],
   "source": [
    "b = df.sort_values(by='Healthy life expectancy', ascending=False)\n",
    "c = list(b['Country or region'])\n",
    "c = c[0:10]\n",
    "d = list(b['Healthy life expectancy'])\n",
    "d = d[0:10]\n",
    "\n",
    "plt.figure(figsize=(12,6))\n",
    "plt.title('Healthy life expectancy Bar')\n",
    "plt.xlabel('Country')\n",
    "plt.ylabel('Healthy life expectancy')\n",
    "plt.bar(c, d)\n",
    "plt.show()"
   ]
  },
  {
   "cell_type": "code",
   "execution_count": 215,
   "metadata": {},
   "outputs": [
    {
     "data": {
      "image/png": "[encoded data removed]",
      "text/plain": [
       "<Figure size 864x432 with 1 Axes>"
      ]
     },
     "metadata": {
      "needs_background": "light"
     },
     "output_type": "display_data"
    }
   ],
   "source": [
    "b = df.sort_values(by='Perceptions of corruption', ascending=False)\n",
    "e = list(b['Country or region'])\n",
    "e = e[0:10]\n",
    "f = list(b['Perceptions of corruption'])\n",
    "f = f[0:10]\n",
    "\n",
    "plt.figure(figsize=(12,6))\n",
    "plt.title('Perceptions of corruption Bar')\n",
    "plt.xlabel('Country')\n",
    "plt.ylabel('Perceptions of corruption')\n",
    "plt.bar(e, f)\n",
    "plt.show()"
   ]
  },
  {
   "cell_type": "code",
   "execution_count": null,
   "metadata": {},
   "outputs": [],
   "source": []
  }
 ],
 "metadata": {
  "kernelspec": {
   "display_name": "Python 3",
   "language": "python",
   "name": "python3"
  },
  "language_info": {
   "codemirror_mode": {
    "name": "ipython",
    "version": 3
   },
   "file_extension": ".py",
   "mimetype": "text/x-python",
   "name": "python",
   "nbconvert_exporter": "python",
   "pygments_lexer": "ipython3",
   "version": "3.8.1"
  }
 },
 "nbformat": 4,
 "nbformat_minor": 4
}
